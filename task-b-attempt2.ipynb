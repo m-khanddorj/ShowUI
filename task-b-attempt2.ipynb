{
 "cells": [
  {
   "cell_type": "code",
   "execution_count": 34,
   "id": "4b772561",
   "metadata": {},
   "outputs": [],
   "source": [
    "from io import BytesIO\n",
    "import requests\n",
    "import ast\n",
    "\n",
    "from datasets import load_dataset\n",
    "import torch\n",
    "from PIL import Image, ImageDraw\n",
    "from qwen_vl_utils import process_vision_info\n",
    "from transformers import Qwen2VLForConditionalGeneration, AutoProcessor"
   ]
  },
  {
   "cell_type": "code",
   "execution_count": 36,
   "id": "1149d7e5",
   "metadata": {},
   "outputs": [
    {
     "name": "stderr",
     "output_type": "stream",
     "text": [
      "huggingface/tokenizers: The current process just got forked, after parallelism has already been used. Disabling parallelism to avoid deadlocks...\n",
      "To disable this warning, you can either:\n",
      "\t- Avoid using `tokenizers` before the fork if possible\n",
      "\t- Explicitly set the environment variable TOKENIZERS_PARALLELISM=(true | false)\n"
     ]
    }
   ],
   "source": [
    "model = Qwen2VLForConditionalGeneration.from_pretrained(\n",
    "    \"showlab/ShowUI-2B\",\n",
    "    torch_dtype=torch.float16,\n",
    "    device_map=\"auto\"\n",
    ").to(\"cuda\")"
   ]
  },
  {
   "cell_type": "code",
   "execution_count": 37,
   "id": "daf80291",
   "metadata": {},
   "outputs": [],
   "source": [
    "min_pixels = 256*28*28\n",
    "max_pixels = 1344*28*28\n",
    "\n",
    "processor = AutoProcessor.from_pretrained(\n",
    "    \"showlab/ShowUI-2B\",\n",
    "    min_pixels=min_pixels,\n",
    "    max_pixels=max_pixels,\n",
    ")"
   ]
  },
  {
   "cell_type": "code",
   "execution_count": null,
   "id": "f65ee307",
   "metadata": {},
   "outputs": [
    {
     "name": "stderr",
     "output_type": "stream",
     "text": [
      "Testing: 100%|██████████| 318/318 [3:15:16<00:00, 36.85s/it]  "
     ]
    },
    {
     "name": "stdout",
     "output_type": "stream",
     "text": [
      "\n",
      "==================================================\n",
      "Test Results\n",
      "==================================================\n",
      "Total samples: 1272\n",
      "Correct predictions: 975\n",
      "Incorrect predictions: 297\n",
      "Accuracy: 76.65%\n",
      "==================================================\n",
      "\n",
      "First 5 errors:\n",
      "\n",
      "1. File: pc_5e09e8e9-7ef6-44be-ad54-aeaeac151897.png\n",
      "   Instruction: minimize this window\n",
      "   Predicted: [0.98, 0.02]\n",
      "   Ground truth bbox: [0.8697916666666666, 0.0, 0.9072916666666667, 0.05555555555555555]\n",
      "\n",
      "2. File: pc_ac2d2c5e-fe5a-4233-95b4-2de18ef76a9e.png\n",
      "   Instruction: adjust the style\n",
      "   Predicted: [0.69, 0.66]\n",
      "   Ground truth bbox: [0.6614583333333334, 0.6666666666666666, 0.7052083333333333, 0.7833333333333333]\n",
      "\n",
      "3. File: pc_db6b6fa2-11cc-4b06-88cb-22c180f07a3b.png\n",
      "   Instruction: save the file\n",
      "   Predicted: [0.06, 0.21]\n",
      "   Ground truth bbox: [0.009375, 0.0, 0.04583333333333333, 0.05740740740740741]\n",
      "\n",
      "4. File: pc_bc9ed2f6-79c1-4a35-bcb5-4760bf4ed57d.png\n",
      "   Instruction: add this page to favourites\n",
      "   Predicted: [0.94, 0.14]\n",
      "   Ground truth bbox: [0.9166666666666666, 0.011111111111111112, 0.9541666666666667, 0.06851851851851852]\n",
      "\n",
      "5. File: pc_e618dc7e-8ffb-4a37-a317-9d3908c38395.png\n",
      "   Instruction: input method toolbar\n",
      "   Predicted: [0.28, 0.2]\n",
      "   Ground truth bbox: [0.9197916666666667, 0.9185185185185185, 0.984375, 1.0]\n"
     ]
    },
    {
     "name": "stderr",
     "output_type": "stream",
     "text": [
      "\n"
     ]
    }
   ],
   "source": [
    "import ast\n",
    "import torch\n",
    "from torch.utils.data import DataLoader\n",
    "from datasets import load_dataset\n",
    "from tqdm import tqdm\n",
    "\n",
    "def collate_fn(batch):\n",
    "    \"\"\"Custom collate function to handle batch processing\"\"\"\n",
    "    return batch\n",
    "\n",
    "def is_click_in_bbox(click_xy, bbox):\n",
    "    \"\"\"\n",
    "    Check if click coordinates are within the bounding box.\n",
    "    \n",
    "    Args:\n",
    "        click_xy: [x, y] coordinates (normalized 0-1)\n",
    "        bbox: [x_min, y_min, x_max, y_max] (normalized 0-1)\n",
    "    \n",
    "    Returns:\n",
    "        bool: True if click is within bbox\n",
    "    \"\"\"\n",
    "    if not isinstance(click_xy, (list, tuple)) or len(click_xy) != 2:\n",
    "        return False\n",
    "    \n",
    "    x, y = click_xy\n",
    "    x_min, y_min, x_max, y_max = bbox\n",
    "    \n",
    "    return x_min <= x <= x_max and y_min <= y <= y_max\n",
    "\n",
    "def test_model(model, processor, dataset, batch_size=1, min_pixels=None, max_pixels=None):\n",
    "    \"\"\"\n",
    "    Test the model and calculate accuracy.\n",
    "    \n",
    "    Args:\n",
    "        model: The vision-language model\n",
    "        processor: The model's processor\n",
    "        dataset: The dataset to evaluate on\n",
    "        batch_size: Batch size (default=1 for vision-language models)\n",
    "        min_pixels: Minimum pixels for image processing\n",
    "        max_pixels: Maximum pixels for image processing\n",
    "    \n",
    "    Returns:\n",
    "        dict: Results including accuracy and detailed metrics\n",
    "    \"\"\"\n",
    "    _SYSTEM = \"Based on the screenshot of the page, I give a text description and you give its corresponding location. The coordinate represents a clickable location [x, y] for an element, which is a relative coordinate on the screenshot, scaled from 0 to 1.\"\n",
    "    \n",
    "    dataloader = DataLoader(\n",
    "        dataset, \n",
    "        batch_size=batch_size, \n",
    "        shuffle=False, \n",
    "        collate_fn=collate_fn\n",
    "    )\n",
    "    \n",
    "    correct = 0\n",
    "    total = 0\n",
    "    errors = []\n",
    "    \n",
    "    model.eval()\n",
    "    \n",
    "    with torch.no_grad():\n",
    "        for batch in tqdm(dataloader, desc=\"Testing\"):\n",
    "            for t in batch:\n",
    "                try:\n",
    "                    query = t['instruction']\n",
    "                    ground_truth_bbox = t['bbox']\n",
    "                    \n",
    "                    # Prepare messages\n",
    "                    messages = [\n",
    "                        {\n",
    "                            \"role\": \"user\",\n",
    "                            \"content\": [\n",
    "                                {\"type\": \"text\", \"text\": _SYSTEM},\n",
    "                                {\"type\": \"image\", \"image\": t['image'], \"min_pixels\": min_pixels, \"max_pixels\": max_pixels},\n",
    "                                {\"type\": \"text\", \"text\": query}\n",
    "                            ],\n",
    "                        }\n",
    "                    ]\n",
    "                    \n",
    "                    # Process input\n",
    "                    text = processor.apply_chat_template(\n",
    "                        messages, tokenize=False, add_generation_prompt=True,\n",
    "                    )\n",
    "                    image_inputs, video_inputs = process_vision_info(messages)\n",
    "                    inputs = processor(\n",
    "                        text=[text],\n",
    "                        images=image_inputs,\n",
    "                        videos=video_inputs,\n",
    "                        padding=True,\n",
    "                        return_tensors=\"pt\",\n",
    "                    )\n",
    "                    inputs = inputs.to(\"cuda\")\n",
    "                    \n",
    "                    # Generate prediction\n",
    "                    generated_ids = model.generate(**inputs, max_new_tokens=128)\n",
    "                    generated_ids_trimmed = [\n",
    "                        out_ids[len(in_ids):] for in_ids, out_ids in zip(inputs.input_ids, generated_ids)\n",
    "                    ]\n",
    "                    output_text = processor.batch_decode(\n",
    "                        generated_ids_trimmed, skip_special_tokens=True, clean_up_tokenization_spaces=False\n",
    "                    )[0]\n",
    "                    \n",
    "                    # Parse output\n",
    "                    click_xy = ast.literal_eval(output_text)\n",
    "                    \n",
    "                    # Check accuracy\n",
    "                    is_correct = is_click_in_bbox(click_xy, ground_truth_bbox)\n",
    "                    \n",
    "                    if is_correct:\n",
    "                        correct += 1\n",
    "                    else:\n",
    "                        errors.append({\n",
    "                            'file_name': t['file_name'],\n",
    "                            'instruction': query,\n",
    "                            'predicted': click_xy,\n",
    "                            'ground_truth_bbox': ground_truth_bbox,\n",
    "                            'output_text': output_text\n",
    "                        })\n",
    "                    \n",
    "                    total += 1\n",
    "                    \n",
    "                except Exception as e:\n",
    "                    print(f\"\\nError processing {t.get('file_name', 'unknown')}: {str(e)}\")\n",
    "                    errors.append({\n",
    "                        'file_name': t['file_name'],\n",
    "                        'instruction': t['instruction'],\n",
    "                        'error': str(e),\n",
    "                        'ground_truth_bbox': t['bbox']\n",
    "                    })\n",
    "                    total += 1\n",
    "    \n",
    "    accuracy = correct / total if total > 0 else 0\n",
    "    \n",
    "    results = {\n",
    "        'accuracy': accuracy,\n",
    "        'correct': correct,\n",
    "        'total': total,\n",
    "        'incorrect': total - correct,\n",
    "        'errors': errors\n",
    "    }\n",
    "    \n",
    "    return results\n",
    "\n",
    "# Usage example\n",
    "if __name__ == \"__main__\":\n",
    "    # Load your dataset\n",
    "    dataset = load_dataset(\"dataset\", split=\"test\")\n",
    "    \n",
    "    # Load your model and processor (replace with your actual model loading code)\n",
    "    # model = ...\n",
    "    # processor = ...\n",
    "    # min_pixels = ...\n",
    "    # max_pixels = ...\n",
    "    \n",
    "    # Run testing\n",
    "    results = test_model(\n",
    "        model=model,\n",
    "        processor=processor,\n",
    "        dataset=dataset,\n",
    "        batch_size=4,  # Keep at 1 for most VLM models\n",
    "        min_pixels=min_pixels,\n",
    "        max_pixels=max_pixels\n",
    "    )\n",
    "    \n",
    "    # Print results\n",
    "    print(f\"\\n{'='*50}\")\n",
    "    print(f\"Test Results\")\n",
    "    print(f\"{'='*50}\")\n",
    "    print(f\"Total samples: {results['total']}\")\n",
    "    print(f\"Correct predictions: {results['correct']}\")\n",
    "    print(f\"Incorrect predictions: {results['incorrect']}\")\n",
    "    print(f\"Accuracy: {results['accuracy']:.2%}\")\n",
    "    print(f\"{'='*50}\")\n",
    "    \n",
    "    # Optionally save errors for analysis \n",
    "    if results['errors']:\n",
    "        print(f\"\\nFirst 5 errors:\")\n",
    "        for i, error in enumerate(results['errors'][:5]):\n",
    "            print(f\"\\n{i+1}. File: {error['file_name']}\")\n",
    "            print(f\"   Instruction: {error['instruction']}\")\n",
    "            if 'predicted' in error:\n",
    "                print(f\"   Predicted: {error['predicted']}\")\n",
    "                print(f\"   Ground truth bbox: {error['ground_truth_bbox']}\")\n",
    "            if 'error' in error:\n",
    "                print(f\"   Error: {error['error']}\")"
   ]
  },
  {
   "cell_type": "code",
   "execution_count": 47,
   "id": "30d9568c",
   "metadata": {},
   "outputs": [],
   "source": [
    "from collections import Counter\n",
    "\n",
    "error_count = Counter([error['file_name'].split(\"_\")[0] for error in results['errors']])"
   ]
  },
  {
   "cell_type": "code",
   "execution_count": 48,
   "id": "395086d7",
   "metadata": {},
   "outputs": [],
   "source": [
    "overall_count = Counter([entry['file_name'].split(\"_\")[0] for entry in dataset])"
   ]
  },
  {
   "cell_type": "code",
   "execution_count": null,
   "id": "16481638",
   "metadata": {},
   "outputs": [
    {
     "name": "stdout",
     "output_type": "stream",
     "text": [
      "mobile:0.84\n",
      "web:0.74\n",
      "pc:0.70\n"
     ]
    }
   ],
   "source": [
    "for pf in ['mobile', 'web','pc']:\n",
    "    accuracy = (overall_count[pf]-error_count[pf])/overall_count[pf]\n",
    "    print(f\"{pf}:{accuracy:.2f}\")"
   ]
  },
  {
   "cell_type": "code",
   "execution_count": 1,
   "id": "5d13ef9c",
   "metadata": {},
   "outputs": [],
   "source": [
    "from datasets import load_dataset\n",
    "\n",
    "dataset = load_dataset(\"dataset\", split=\"test\")"
   ]
  },
  {
   "cell_type": "code",
   "execution_count": 3,
   "id": "42b81015",
   "metadata": {},
   "outputs": [
    {
     "data": {
      "text/plain": [
       "{'file_name': 'mobile_ef01fd08-a7fd-42a3-b1aa-fe22b3f79730.png',\n",
       " 'bbox': [0.5222222222222223,\n",
       "  0.7916666666666666,\n",
       "  0.8388888888888889,\n",
       "  0.8358333333333333],\n",
       " 'instruction': 'display user agreement',\n",
       " 'data_type': 'text',\n",
       " 'data_source': 'android',\n",
       " 'image': <PIL.JpegImagePlugin.JpegImageFile image mode=RGB size=1080x2400>}"
      ]
     },
     "execution_count": 3,
     "metadata": {},
     "output_type": "execute_result"
    }
   ],
   "source": [
    "dataset[500]"
   ]
  },
  {
   "cell_type": "code",
   "execution_count": null,
   "id": "01c6d7ea",
   "metadata": {},
   "outputs": [],
   "source": []
  }
 ],
 "metadata": {
  "kernelspec": {
   "display_name": ".venv",
   "language": "python",
   "name": "python3"
  },
  "language_info": {
   "codemirror_mode": {
    "name": "ipython",
    "version": 3
   },
   "file_extension": ".py",
   "mimetype": "text/x-python",
   "name": "python",
   "nbconvert_exporter": "python",
   "pygments_lexer": "ipython3",
   "version": "3.10.12"
  }
 },
 "nbformat": 4,
 "nbformat_minor": 5
}
